{
 "cells": [
  {
   "cell_type": "code",
   "execution_count": 7,
   "id": "9ee38134-732e-4d6d-ad66-0929bbfd538e",
   "metadata": {},
   "outputs": [
    {
     "name": "stdout",
     "output_type": "stream",
     "text": [
      "No match\n"
     ]
    }
   ],
   "source": [
    "import re\n",
    "txt=\"the rain in AP\"\n",
    "x=re.search(\"^The.*AP$\",txt)\n",
    "if (x):\n",
    "   print(\"YES!We have a match!\")\n",
    "else:\n",
    "   print(\"No match\")"
   ]
  },
  {
   "cell_type": "code",
   "execution_count": 9,
   "id": "57564227-1d3a-41c3-923d-69d58db35417",
   "metadata": {},
   "outputs": [
    {
     "name": "stdout",
     "output_type": "stream",
     "text": [
      "['ai', 'ai']\n"
     ]
    }
   ],
   "source": [
    "import re\n",
    "str=\"The rain is gain\"\n",
    "x=re.findall(\"ai\",str)\n",
    "print(x)"
   ]
  },
  {
   "cell_type": "code",
   "execution_count": 25,
   "id": "902d6b96-d228-44b9-bb9f-b1f3269f7723",
   "metadata": {},
   "outputs": [
    {
     "name": "stdout",
     "output_type": "stream",
     "text": [
      "The first white-space character is located in position: 3\n"
     ]
    }
   ],
   "source": [
    "import re\n",
    "str=\"The rain is gain\"\n",
    "x=re.search(r\"\\s\",str)\n",
    "print(\"The first white-space character is located in position:\",x.start())"
   ]
  },
  {
   "cell_type": "code",
   "execution_count": 27,
   "id": "2cb5dff6-ceb4-468f-a6db-22140dcdd380",
   "metadata": {},
   "outputs": [
    {
     "name": "stdout",
     "output_type": "stream",
     "text": [
      "['The', 'rain', 'is', 'gain']\n"
     ]
    }
   ],
   "source": [
    "import re\n",
    "str=\"The rain is gain\"\n",
    "x=re.split(r\"\\s\",str)\n",
    "print(x)"
   ]
  },
  {
   "cell_type": "code",
   "execution_count": 29,
   "id": "de6c674f-b3af-4c09-91fa-12d927c94572",
   "metadata": {},
   "outputs": [
    {
     "name": "stdout",
     "output_type": "stream",
     "text": [
      "['The', 'rain', 'is gain in all seasons']\n"
     ]
    }
   ],
   "source": [
    "import re\n",
    "str=\"The rain is gain in all seasons\"\n",
    "x=re.split(r\"\\s\",str,2)\n",
    "print(x)"
   ]
  },
  {
   "cell_type": "code",
   "execution_count": 31,
   "id": "fbdef636-ebd3-4f6e-8a16-a7d3c0446b15",
   "metadata": {},
   "outputs": [
    {
     "name": "stdout",
     "output_type": "stream",
     "text": [
      "The-rain-in-spain\n"
     ]
    }
   ],
   "source": [
    "import re\n",
    "str=\"The rain in spain\"\n",
    "x=re.sub(r\"\\s\",\"-\",str)\n",
    "print(x)"
   ]
  },
  {
   "cell_type": "code",
   "execution_count": 33,
   "id": "f2504f14-cbc6-4af9-b2c3-99cace009834",
   "metadata": {},
   "outputs": [
    {
     "name": "stdout",
     "output_type": "stream",
     "text": [
      "The-rain-is gain\n"
     ]
    }
   ],
   "source": [
    "import re\n",
    "str=\"The rain is gain\"\n",
    "x=re.sub(r\"\\s\",\"-\",str,2)\n",
    "print(x)"
   ]
  },
  {
   "cell_type": "code",
   "execution_count": 35,
   "id": "8758c3c5-8332-4aa9-8e02-fb8115a39326",
   "metadata": {},
   "outputs": [
    {
     "name": "stdout",
     "output_type": "stream",
     "text": [
      "<re.Match object; span=(5, 7), match='ai'>\n"
     ]
    }
   ],
   "source": [
    "import re\n",
    "str=\"The rain is gain\"\n",
    "x=re.search(\"ai\",str)\n",
    "print(x)"
   ]
  },
  {
   "cell_type": "code",
   "execution_count": 37,
   "id": "2d4251a8-0c67-48b4-8e9a-fade74948c89",
   "metadata": {},
   "outputs": [
    {
     "name": "stdout",
     "output_type": "stream",
     "text": [
      "(12, 18)\n"
     ]
    }
   ],
   "source": [
    "import re\n",
    "str=\"The rain in Andhra\"\n",
    "x=re.search(r\"\\bA\\w+\",str)\n",
    "print(x.span())"
   ]
  },
  {
   "cell_type": "code",
   "execution_count": 39,
   "id": "3b6f618f-d6df-447d-83cb-ca00db8fc7aa",
   "metadata": {},
   "outputs": [
    {
     "name": "stdout",
     "output_type": "stream",
     "text": [
      "ANdhra\n"
     ]
    }
   ],
   "source": [
    "import re\n",
    "str=\"The rain in ANdhra\"\n",
    "x=re.search(r\"\\bAN\\w+\",str)\n",
    "print(x.group())"
   ]
  },
  {
   "cell_type": "code",
   "execution_count": 47,
   "id": "101f4a08-76c7-46f5-8910-a09359aa240a",
   "metadata": {},
   "outputs": [
    {
     "name": "stdin",
     "output_type": "stream",
     "text": [
      "enter a word ram is\n",
      "enter a word playing cricket\n"
     ]
    },
    {
     "name": "stdout",
     "output_type": "stream",
     "text": [
      "ram isplaying cricket\n"
     ]
    }
   ],
   "source": [
    "n1=input(\"enter a word\")\n",
    "n2=input(\"enter a word\")\n",
    "m=n1+n2\n",
    "print(m)"
   ]
  },
  {
   "cell_type": "code",
   "execution_count": null,
   "id": "55992964-0407-4efc-88d5-1db5df652793",
   "metadata": {},
   "outputs": [],
   "source": []
  }
 ],
 "metadata": {
  "kernelspec": {
   "display_name": "Python 3 (ipykernel)",
   "language": "python",
   "name": "python3"
  },
  "language_info": {
   "codemirror_mode": {
    "name": "ipython",
    "version": 3
   },
   "file_extension": ".py",
   "mimetype": "text/x-python",
   "name": "python",
   "nbconvert_exporter": "python",
   "pygments_lexer": "ipython3",
   "version": "3.12.7"
  }
 },
 "nbformat": 4,
 "nbformat_minor": 5
}
